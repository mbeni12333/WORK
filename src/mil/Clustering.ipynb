{
 "cells": [
  {
   "cell_type": "code",
   "execution_count": 1,
   "id": "4b02502c-f0be-45d6-9b7c-1ad5898caddc",
   "metadata": {},
   "outputs": [],
   "source": [
    "import numpy as np\n",
    "import glob\n",
    "import pandas as pd\n",
    "import matplotlib.pyplot as plt\n",
    "from mpl_toolkits.mplot3d import Axes3D \n",
    "import json\n",
    "import os\n",
    "import pytorch_lightning as pl\n",
    "import cv2\n",
    "import torch\n",
    "import torch.nn as nn\n",
    "import torch.nn.functional as F\n",
    "import torchvision.transforms as transforms\n",
    "from torchvision.utils import make_grid \n",
    "from torchvision import models\n",
    "from PIL import Image\n",
    "from pytorch_lightning.callbacks import early_stopping, model_checkpoint, ProgressBar\n",
    "from pl_bolts.models.self_supervised import Moco_v2, BYOL\n",
    "from pl_bolts.transforms.dataset_normalizations import imagenet_normalization\n",
    "import tqdm\n",
    "from sklearn.decomposition import PCA\n",
    "import gc\n",
    "from torchvision.io import ImageReadMode, read_image\n",
    "from pytorch_lightning.loggers import TensorBoardLogger\n",
    "\n",
    "%matplotlib inline"
   ]
  },
  {
   "cell_type": "code",
   "execution_count": 2,
   "id": "c4217ec4-fa6b-44b6-88ac-e902b52a4f33",
   "metadata": {},
   "outputs": [],
   "source": [
    "# first we have to create a dataset that loads slide by slide\n",
    "\n",
    "class Camelyon16PreprocesseSlidedDataset(torch.utils.data.Dataset):\n",
    "    \"\"\"\n",
    "    Dataset of unlabelled patches\n",
    "    \"\"\"\n",
    "    \n",
    "    def __init__(self, csv_file, transforms=None):\n",
    "        self.data = pd.read_csv(csv_file)\n",
    "        self.data[\"slide\"] = self.data[\"path\"].str.split(\"/\", expand=True)[1]\n",
    "        groups = self.data.groupby(\"slide\")\n",
    "        self.slidenames = np.unique(self.data[\"slide\"])\n",
    "        self.patchesByslide = list(groups.groups.values())\n",
    "        self.transforms = transforms\n",
    "        \n",
    "    def __len__(self):\n",
    "        return len(self.patchesByslide)\n",
    "\n",
    "    def __getitem__(self, idx):\n",
    "        patches = self.data.iloc[self.patchesByslide[idx]]\n",
    "\n",
    "#         ids = np.arange(0, len(patches))\n",
    "#         np.random.shuffle(ids)\n",
    "#         patches = patches.iloc[ids]\n",
    "\n",
    "        imgs = torch.stack([self.transforms(read_image(path, ImageReadMode.RGB)) for path in tqdm.tqdm(patches[\"path\"])])\n",
    "\n",
    "        global_label = patches[\"global_class\"].iloc[0]\n",
    "        local_labels = patches[\"local_class\"].to_numpy()\n",
    "        \n",
    "        return imgs, (global_label, local_labels)\n",
    "  "
   ]
  },
  {
   "cell_type": "code",
   "execution_count": 3,
   "id": "89505b43-cc15-4ce1-acb2-f55d1bb8f2f7",
   "metadata": {},
   "outputs": [],
   "source": [
    "logger = TensorBoardLogger(\"lightning_logs\", default_hp_metric=False, name=\"LatentSpace\")\n",
    "data_transform = transforms.Compose([transforms.Resize(32)])"
   ]
  },
  {
   "cell_type": "code",
   "execution_count": 4,
   "id": "72808e29-efeb-4bf6-a27b-e63490a3e9c2",
   "metadata": {},
   "outputs": [],
   "source": [
    "dataset = Camelyon16PreprocesseSlidedDataset(\"processed_data/data.csv\", data_transform)"
   ]
  },
  {
   "cell_type": "code",
   "execution_count": 6,
   "id": "db5c17c3-9ed6-4b37-b610-f819674bee18",
   "metadata": {},
   "outputs": [],
   "source": [
    "import numpy as np\n",
    "from scipy.spatial.distance import cdist\n",
    "from sklearn.cluster import KMeans\n",
    "import matplotlib.pyplot as plt\n",
    "\n"
   ]
  },
  {
   "cell_type": "code",
   "execution_count": 5,
   "id": "7d72c3e7-4890-4465-9ad4-844b304d9605",
   "metadata": {},
   "outputs": [
    {
     "data": {
      "text/plain": [
       "230"
      ]
     },
     "execution_count": 5,
     "metadata": {},
     "output_type": "execute_result"
    }
   ],
   "source": []
  },
  {
   "cell_type": "code",
   "execution_count": 12,
   "id": "66d9788e-fe3e-4db1-89a4-95bb46f4833a",
   "metadata": {},
   "outputs": [],
   "source": [
    "def visualize(filename, dataset, logger, global_step=0):\n",
    "    slidename = os.path.basename(filename).split(\".\")[0]\n",
    "    idx = np.argmax(dataset.slidenames == slidename)\n",
    "    tag = filename.split(\"_\")[2]\n",
    "    \n",
    "    with np.load(filename, \"r\") as data:\n",
    "        imgs_features = data[\"imgs\"]\n",
    "        local_labels = data[\"labels\"][:len(imgs_features)]\n",
    "\n",
    "    x = imgs_features\n",
    "    res = list()\n",
    "    n_cluster = range(2,20)\n",
    "    for n in tqdm.tqdm(n_cluster):\n",
    "        kmeans = KMeans(n_clusters=n)\n",
    "        kmeans.fit(x)\n",
    "        res.append(np.average(np.min(cdist(x, kmeans.cluster_centers_, 'cosine'), axis=1)))\n",
    "\n",
    "    plt.plot(n_cluster, res)\n",
    "    plt.title('elbow curve')\n",
    "    plt.show()"
   ]
  },
  {
   "cell_type": "code",
   "execution_count": null,
   "id": "7c9bec37-5d0d-4608-81fa-eb12149d830f",
   "metadata": {},
   "outputs": [],
   "source": []
  },
  {
   "cell_type": "code",
   "execution_count": 11,
   "id": "c4b80065-aaf2-496f-a357-75c60ad9d2c7",
   "metadata": {},
   "outputs": [
    {
     "name": "stdout",
     "output_type": "stream",
     "text": [
      "encoded_data_resnet18/tumor_100.npz\n"
     ]
    },
    {
     "name": "stderr",
     "output_type": "stream",
     "text": [
      "\n",
      "  0%|                                                    | 0/18 [00:00<?, ?it/s]\u001b[A\n",
      "  6%|██▍                                         | 1/18 [00:02<00:37,  2.21s/it]\u001b[A\n",
      " 11%|████▉                                       | 2/18 [00:07<01:00,  3.80s/it]\u001b[A\n",
      " 17%|███████▎                                    | 3/18 [00:14<01:19,  5.32s/it]\u001b[A\n",
      " 22%|█████████▊                                  | 4/18 [00:22<01:29,  6.39s/it]\u001b[A\n",
      " 28%|████████████▏                               | 5/18 [00:29<01:28,  6.83s/it]\u001b[A\n",
      " 33%|██████████████▋                             | 6/18 [00:39<01:34,  7.88s/it]\u001b[A\n",
      " 39%|█████████████████                           | 7/18 [00:51<01:40,  9.11s/it]\u001b[A\n",
      " 44%|███████████████████▌                        | 8/18 [01:05<01:46, 10.62s/it]\u001b[A\n",
      " 50%|██████████████████████                      | 9/18 [01:21<01:50, 12.26s/it]\u001b[A\n",
      " 56%|███████████████████████▉                   | 10/18 [01:38<01:50, 13.85s/it]\u001b[A\n",
      " 61%|██████████████████████████▎                | 11/18 [02:03<01:59, 17.11s/it]\u001b[A\n",
      " 67%|████████████████████████████▋              | 12/18 [02:23<01:49, 18.22s/it]\u001b[A\n",
      " 72%|███████████████████████████████            | 13/18 [02:45<01:36, 19.37s/it]\u001b[A\n",
      " 78%|█████████████████████████████████▍         | 14/18 [03:07<01:20, 20.03s/it]\u001b[A\n",
      " 83%|███████████████████████████████████▊       | 15/18 [03:30<01:02, 20.85s/it]\u001b[A\n",
      " 89%|██████████████████████████████████████▏    | 16/18 [03:58<00:46, 23.02s/it]\u001b[A\n",
      " 94%|████████████████████████████████████████▌  | 17/18 [04:26<00:24, 24.75s/it]\u001b[A\n",
      "100%|███████████████████████████████████████████| 18/18 [04:56<00:00, 16.46s/it]\u001b[A\n"
     ]
    },
    {
     "data": {
      "image/png": "[encoded data removed]",
      "text/plain": [
       "<Figure size 432x288 with 1 Axes>"
      ]
     },
     "metadata": {
      "needs_background": "light"
     },
     "output_type": "display_data"
    }
   ],
   "source": [
    "for i, file in enumerate(sorted(glob.glob(\"encoded_data_[r]*/tumor_100.npz\"))):\n",
    "    print(file)\n",
    "    visualize(file, dataset, logger, i)\n",
    "\n",
    "#     idx = int(file.split(\"_\")[2])\n",
    "    \n",
    "#     with np.load(file, \"r\") as data:\n",
    "#         imgs_features = data[\"imgs\"]\n",
    "#         local_labels = data[\"labels\"][:len(imgs_features)]\n",
    "\n",
    "#     imgs, _ = dataset[idx]\n",
    "    \n",
    "#     logger.experiment.add_embedding(imgs_features,local_labels, imgs[:len(imgs_features)]/255, global_step=i)"
   ]
  },
  {
   "cell_type": "code",
   "execution_count": null,
   "id": "f54c0f22-136c-4449-b7b9-782a437cb00a",
   "metadata": {},
   "outputs": [],
   "source": []
  }
 ],
 "metadata": {
  "kernelspec": {
   "display_name": "Python 3",
   "language": "python",
   "name": "python3"
  },
  "language_info": {
   "codemirror_mode": {
    "name": "ipython",
    "version": 3
   },
   "file_extension": ".py",
   "mimetype": "text/x-python",
   "name": "python",
   "nbconvert_exporter": "python",
   "pygments_lexer": "ipython3",
   "version": "3.8.8"
  }
 },
 "nbformat": 4,
 "nbformat_minor": 5
}
